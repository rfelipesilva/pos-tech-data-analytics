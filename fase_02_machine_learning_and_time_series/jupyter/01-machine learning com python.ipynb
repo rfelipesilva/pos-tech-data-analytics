{
 "cells": [
  {
   "cell_type": "markdown",
   "id": "30d86dd2-34c4-4633-b9e7-029b834726b3",
   "metadata": {},
   "source": [
    "# Info"
   ]
  },
  {
   "cell_type": "markdown",
   "id": "18992887-eaee-4b22-9720-68488d89eeb2",
   "metadata": {},
   "source": [
    "# Importing libraries"
   ]
  },
  {
   "cell_type": "code",
   "execution_count": 67,
   "id": "10a3c8b3-3999-47fd-b94b-28c61494919e",
   "metadata": {},
   "outputs": [],
   "source": [
    "import numpy as np\n",
    "import scipy as sc\n",
    "import sympy as sy\n",
    "import pandas as pd\n",
    "\n",
    "import matplotlib.pyplot as plt"
   ]
  },
  {
   "cell_type": "markdown",
   "id": "4f201640-b82a-424a-afa1-833d404d15e0",
   "metadata": {},
   "source": [
    "## AULA 01 - ESTATÍSTICA E ALGEBRA LINEAR EM PYTHON"
   ]
  },
  {
   "cell_type": "markdown",
   "id": "10b470f5-3785-46b5-8342-3e7ab87f3ae0",
   "metadata": {},
   "source": [
    "### Algebra linear"
   ]
  },
  {
   "cell_type": "raw",
   "id": "9015a9bb-18d3-4161-ada9-b65c4a2460aa",
   "metadata": {},
   "source": [
    "Using properly math symbols use \"$\"\n",
    "$$ \\alpha + \\beta = 10 $$"
   ]
  },
  {
   "cell_type": "markdown",
   "id": "c2d49ffb-c425-4f30-a91b-8c2b6b207546",
   "metadata": {},
   "source": [
    "$$ \\alpha + \\beta = 10$$"
   ]
  },
  {
   "cell_type": "markdown",
   "id": "68bc1e66-00dd-4da5-b95e-4d9e680a6268",
   "metadata": {},
   "source": [
    "#### Escalar, vetor e matriz"
   ]
  },
  {
   "cell_type": "code",
   "execution_count": 30,
   "id": "c493b770-c570-46a5-8d2a-e935ce5cf3e9",
   "metadata": {},
   "outputs": [],
   "source": [
    "x = 2 # escalar\n",
    "x2 = np.array([1,2,3]) # -> vetor escalar com três elementos\n",
    "x3 = np.array([[1],[2],[3]]) # -> matriz com três elementos vetores com um elemento escalar(2d)\n",
    "x4 = np.array([[1,2,3], [1,2,3], [1,2,3]]) # -> matriz quadrada (tradicional)"
   ]
  },
  {
   "cell_type": "code",
   "execution_count": 27,
   "id": "7a73b503-5742-464f-864e-736ae58b2546",
   "metadata": {},
   "outputs": [
    {
     "name": "stdout",
     "output_type": "stream",
     "text": [
      "[1 2 3]\n",
      "\n",
      "[[1]\n",
      " [2]\n",
      " [3]]\n",
      "\n",
      "[[1 2 3]\n",
      " [1 2 3]\n",
      " [1 2 3]]\n"
     ]
    }
   ],
   "source": [
    "print(x2)\n",
    "print()\n",
    "print(x3)\n",
    "print()\n",
    "print(x4)"
   ]
  },
  {
   "cell_type": "markdown",
   "id": "43a63cb9-c75b-417a-a2d0-6d09ddd184f4",
   "metadata": {},
   "source": [
    "##### Operações com arrays"
   ]
  },
  {
   "cell_type": "markdown",
   "id": "d872c2bb-a4fa-412a-abaa-1caf8dc347ff",
   "metadata": {},
   "source": [
    "##### Soma & subtração\n",
    "Combinação lnear, soma de elementos multiplicaods entre si.\n",
    "\n",
    "Fez uma distributiva criando uma matriz nova."
   ]
  },
  {
   "cell_type": "code",
   "execution_count": 36,
   "id": "01cb9131-6644-4bea-b93a-1532a875a115",
   "metadata": {},
   "outputs": [
    {
     "data": {
      "text/plain": [
       "array([[2, 3, 4],\n",
       "       [3, 4, 5],\n",
       "       [4, 5, 6]])"
      ]
     },
     "execution_count": 36,
     "metadata": {},
     "output_type": "execute_result"
    }
   ],
   "source": [
    "x2 + x3"
   ]
  },
  {
   "cell_type": "markdown",
   "id": "f5289551-8170-426d-a639-ffdb006cf1a0",
   "metadata": {},
   "source": [
    "Aqui não ocorreu o mesmo, pois as fontes (x3 e x4) não são da mesma coisa, ele forçou uma distributiva mas com coisas de dimensões (natureza) diferentes"
   ]
  },
  {
   "cell_type": "code",
   "execution_count": 38,
   "id": "be2deecd-ba1a-4ac9-a727-66895d82ec63",
   "metadata": {},
   "outputs": [
    {
     "data": {
      "text/plain": [
       "array([[2, 3, 4],\n",
       "       [3, 4, 5],\n",
       "       [4, 5, 6]])"
      ]
     },
     "execution_count": 38,
     "metadata": {},
     "output_type": "execute_result"
    }
   ],
   "source": [
    "x3 + x4"
   ]
  },
  {
   "cell_type": "markdown",
   "id": "81063a78-7721-4c24-bac3-b2aa241739bf",
   "metadata": {},
   "source": [
    "Distribuição com dimensões (naturezas) iguais, o que é o correta a acontecer."
   ]
  },
  {
   "cell_type": "code",
   "execution_count": 41,
   "id": "7daf0933-631a-455a-a6d8-be418d833c07",
   "metadata": {},
   "outputs": [
    {
     "data": {
      "text/plain": [
       "array([[2, 4, 6],\n",
       "       [2, 4, 6],\n",
       "       [2, 4, 6]])"
      ]
     },
     "execution_count": 41,
     "metadata": {},
     "output_type": "execute_result"
    }
   ],
   "source": [
    "x4 + x4"
   ]
  },
  {
   "cell_type": "markdown",
   "id": "4bd8afd0-676e-4ef9-8559-26c92d013b8e",
   "metadata": {},
   "source": [
    "! Somar e subtrair, só vetores/arrays de mesma natureza"
   ]
  },
  {
   "cell_type": "markdown",
   "id": "af3d5463-66ff-443a-91fe-64fa38540b45",
   "metadata": {},
   "source": [
    "##### Multiplicação\n",
    "arr1 (x,y) / arr2 (z,w) y = z -> resultado arr3 (x,w)"
   ]
  },
  {
   "cell_type": "markdown",
   "id": "9b3e4357-8710-4f99-924e-a77c4a6650da",
   "metadata": {},
   "source": [
    "testando a máxima acima (dimensões foras da regra):"
   ]
  },
  {
   "cell_type": "code",
   "execution_count": 50,
   "id": "481b21ec-4dad-4300-b6d0-b9e0383b3cf8",
   "metadata": {},
   "outputs": [
    {
     "ename": "ValueError",
     "evalue": "shapes (3,1) and (3,3) not aligned: 1 (dim 1) != 3 (dim 0)",
     "output_type": "error",
     "traceback": [
      "\u001b[1;31m---------------------------------------------------------------------------\u001b[0m",
      "\u001b[1;31mValueError\u001b[0m                                Traceback (most recent call last)",
      "Input \u001b[1;32mIn [50]\u001b[0m, in \u001b[0;36m<cell line: 1>\u001b[1;34m()\u001b[0m\n\u001b[1;32m----> 1\u001b[0m \u001b[43mnp\u001b[49m\u001b[38;5;241;43m.\u001b[39;49m\u001b[43mdot\u001b[49m\u001b[43m(\u001b[49m\u001b[43mx3\u001b[49m\u001b[43m,\u001b[49m\u001b[43mx4\u001b[49m\u001b[43m)\u001b[49m\n",
      "File \u001b[1;32m<__array_function__ internals>:180\u001b[0m, in \u001b[0;36mdot\u001b[1;34m(*args, **kwargs)\u001b[0m\n",
      "\u001b[1;31mValueError\u001b[0m: shapes (3,1) and (3,3) not aligned: 1 (dim 1) != 3 (dim 0)"
     ]
    }
   ],
   "source": [
    "np.dot(x3,x4)"
   ]
  },
  {
   "cell_type": "code",
   "execution_count": 47,
   "id": "cd0c4a81-20c3-473a-a5b2-b967280b6cb5",
   "metadata": {},
   "outputs": [
    {
     "data": {
      "text/plain": [
       "array([[14],\n",
       "       [14],\n",
       "       [14]])"
      ]
     },
     "execution_count": 47,
     "metadata": {},
     "output_type": "execute_result"
    }
   ],
   "source": [
    "np.dot(x4,x3)"
   ]
  },
  {
   "cell_type": "markdown",
   "id": "46ed5e65-a597-4f59-bc2e-16cd7e9b75b7",
   "metadata": {},
   "source": [
    "##### Divisão\n",
    "x4 / x3"
   ]
  },
  {
   "cell_type": "code",
   "execution_count": 55,
   "id": "8154f82f-f2b0-4257-b39d-4de491aff152",
   "metadata": {},
   "outputs": [
    {
     "data": {
      "text/plain": [
       "(array([[1, 2, 3],\n",
       "        [1, 2, 3],\n",
       "        [1, 2, 3]]),\n",
       " array([[1],\n",
       "        [2],\n",
       "        [3]]))"
      ]
     },
     "execution_count": 55,
     "metadata": {},
     "output_type": "execute_result"
    }
   ],
   "source": [
    "x4, x3"
   ]
  },
  {
   "cell_type": "markdown",
   "id": "5ec1e104-a102-4fa8-a0f4-c187b85efe70",
   "metadata": {},
   "source": [
    "Primeiro caso"
   ]
  },
  {
   "cell_type": "code",
   "execution_count": 54,
   "id": "bb12cdc8-8a45-4cc1-99b7-4cd79799da35",
   "metadata": {},
   "outputs": [
    {
     "data": {
      "text/plain": [
       "array([[1.        , 2.        , 3.        ],\n",
       "       [0.5       , 1.        , 1.5       ],\n",
       "       [0.33333333, 0.66666667, 1.        ]])"
      ]
     },
     "execution_count": 54,
     "metadata": {},
     "output_type": "execute_result"
    }
   ],
   "source": [
    "x4 / x3"
   ]
  },
  {
   "cell_type": "markdown",
   "id": "a4cbbfef-f702-4e40-a60a-1047d463acfe",
   "metadata": {},
   "source": [
    "Segunda caso"
   ]
  },
  {
   "cell_type": "code",
   "execution_count": 58,
   "id": "e7315651-e892-4316-a476-a905ef3541ab",
   "metadata": {},
   "outputs": [
    {
     "data": {
      "text/plain": [
       "array([[1.        , 0.5       , 0.33333333],\n",
       "       [2.        , 1.        , 0.66666667],\n",
       "       [3.        , 1.5       , 1.        ]])"
      ]
     },
     "execution_count": 58,
     "metadata": {},
     "output_type": "execute_result"
    }
   ],
   "source": [
    "x3 / x4"
   ]
  },
  {
   "cell_type": "markdown",
   "id": "4b3c0724-ff6d-4bef-a690-ccd072610273",
   "metadata": {},
   "source": [
    "Terceiro caso"
   ]
  },
  {
   "cell_type": "code",
   "execution_count": 61,
   "id": "e547f1c5-e9dd-4890-ad75-ea6f6ee14ca2",
   "metadata": {},
   "outputs": [
    {
     "ename": "ValueError",
     "evalue": "operands could not be broadcast together with shapes (3,1) (2,1) ",
     "output_type": "error",
     "traceback": [
      "\u001b[1;31m---------------------------------------------------------------------------\u001b[0m",
      "\u001b[1;31mValueError\u001b[0m                                Traceback (most recent call last)",
      "Input \u001b[1;32mIn [61]\u001b[0m, in \u001b[0;36m<cell line: 1>\u001b[1;34m()\u001b[0m\n\u001b[1;32m----> 1\u001b[0m \u001b[43mx3\u001b[49m\u001b[43m \u001b[49m\u001b[38;5;241;43m/\u001b[39;49m\u001b[43m \u001b[49m\u001b[43mx5\u001b[49m\n",
      "\u001b[1;31mValueError\u001b[0m: operands could not be broadcast together with shapes (3,1) (2,1) "
     ]
    }
   ],
   "source": [
    "x3 / x5"
   ]
  },
  {
   "cell_type": "markdown",
   "id": "3fc35bc9-8b49-4036-82c8-0cde5f5a7553",
   "metadata": {},
   "source": [
    "\n",
    "-> Não funciona, aí que entra: **equação fundamental da álgebra linear** que visa possibilitar conceitos e aplicações futuras como metódos dos mínimos quadrados (importante para trabalhar e entender algoritmos como regressão linear)."
   ]
  },
  {
   "cell_type": "markdown",
   "id": "ad6f3684-66a6-4e4c-846c-2810956af13a",
   "metadata": {},
   "source": [
    "#### Pandas, dataframe"
   ]
  },
  {
   "cell_type": "code",
   "execution_count": 34,
   "id": "fa3cfcd3-cae7-4b09-80bc-c8802de06be0",
   "metadata": {},
   "outputs": [
    {
     "data": {
      "text/html": [
       "<div>\n",
       "<style scoped>\n",
       "    .dataframe tbody tr th:only-of-type {\n",
       "        vertical-align: middle;\n",
       "    }\n",
       "\n",
       "    .dataframe tbody tr th {\n",
       "        vertical-align: top;\n",
       "    }\n",
       "\n",
       "    .dataframe thead th {\n",
       "        text-align: right;\n",
       "    }\n",
       "</style>\n",
       "<table border=\"1\" class=\"dataframe\">\n",
       "  <thead>\n",
       "    <tr style=\"text-align: right;\">\n",
       "      <th></th>\n",
       "      <th>coluna 1</th>\n",
       "      <th>coluna 2</th>\n",
       "    </tr>\n",
       "  </thead>\n",
       "  <tbody>\n",
       "    <tr>\n",
       "      <th>0</th>\n",
       "      <td>1</td>\n",
       "      <td>1</td>\n",
       "    </tr>\n",
       "    <tr>\n",
       "      <th>1</th>\n",
       "      <td>2</td>\n",
       "      <td>2</td>\n",
       "    </tr>\n",
       "    <tr>\n",
       "      <th>2</th>\n",
       "      <td>3</td>\n",
       "      <td>3</td>\n",
       "    </tr>\n",
       "    <tr>\n",
       "      <th>3</th>\n",
       "      <td>4</td>\n",
       "      <td>4</td>\n",
       "    </tr>\n",
       "    <tr>\n",
       "      <th>4</th>\n",
       "      <td>5</td>\n",
       "      <td>5</td>\n",
       "    </tr>\n",
       "  </tbody>\n",
       "</table>\n",
       "</div>"
      ],
      "text/plain": [
       "   coluna 1  coluna 2\n",
       "0         1         1\n",
       "1         2         2\n",
       "2         3         3\n",
       "3         4         4\n",
       "4         5         5"
      ]
     },
     "execution_count": 34,
     "metadata": {},
     "output_type": "execute_result"
    }
   ],
   "source": [
    "lista = np.array([1,2,3,4,5])\n",
    "df = pd.DataFrame({'coluna 1': lista,\n",
    "                  'coluna 2': lista})\n",
    "df"
   ]
  },
  {
   "cell_type": "markdown",
   "id": "ee0c4b23-34d9-40de-81d2-2f4192d7a934",
   "metadata": {},
   "source": [
    "#### \"Visualizando\" Algebra linear"
   ]
  },
  {
   "cell_type": "code",
   "execution_count": 71,
   "id": "8bee777e-0b29-40ca-8f93-095fa222a565",
   "metadata": {},
   "outputs": [],
   "source": [
    "x1, y1 = -1, 0\n",
    "x2, y2 = 0, 1\n",
    "x3, y3 = 1, 2\n",
    "x4, y4 = 2, 1\n",
    "\n",
    "x = [x1, x2, x3, x4]\n",
    "y = [y1, y2, y3, y4]"
   ]
  },
  {
   "cell_type": "code",
   "execution_count": 86,
   "id": "7cd9119e-0126-4083-8086-9d4163b6ccdf",
   "metadata": {},
   "outputs": [
    {
     "data": {
      "text/plain": [
       "Text(0.5, 1.0, 'Interpolação da reta sobre todos os pontos - sem otimização pelo MMQ')"
      ]
     },
     "execution_count": 86,
     "metadata": {},
     "output_type": "execute_result"
    },
    {
     "data": {
      "image/png": "[encoded data removed]",
      "text/plain": [
       "<Figure size 720x360 with 1 Axes>"
      ]
     },
     "metadata": {
      "needs_background": "light"
     },
     "output_type": "display_data"
    }
   ],
   "source": [
    "plt.figure(figsize=(10,5))\n",
    "plt.scatter(x1, y1, color = 'green', label='Pares ordenados ( x,y )')\n",
    "plt.scatter(x2, y2, color = 'green')\n",
    "plt.scatter(x3, y3, color = 'green')\n",
    "plt.scatter(x4, y4, color = 'green')\n",
    "\n",
    "plt.plot(x, y, label = 'Gráfico que liga os pontos')\n",
    "plt.grid(True)\n",
    "plt.box(False)\n",
    "plt.legend()\n",
    "plt.title('Interpolação da reta sobre todos os pontos - sem otimização pelo MMQ')"
   ]
  },
  {
   "cell_type": "markdown",
   "id": "41b675c1-c702-4529-920b-3d6c97b59063",
   "metadata": {},
   "source": [
    "função para achar a \"reta\" numa função linear:"
   ]
  },
  {
   "cell_type": "markdown",
   "id": "fbc18b51-29b3-41a4-b45b-0f5590535c92",
   "metadata": {},
   "source": [
    "$$ y = mx + r $$"
   ]
  },
  {
   "cell_type": "code",
   "execution_count": 79,
   "id": "8ec2a64d-5196-487a-8585-2a90e459b9a1",
   "metadata": {},
   "outputs": [],
   "source": [
    "A = np.array([[-1,1], [0,1], [1,1], [2,1]])\n",
    "y = np.array([[y1], [y2], [y3], [y4]])"
   ]
  },
  {
   "cell_type": "code",
   "execution_count": 80,
   "id": "571853e2-1b15-47d2-9d30-13292c2faae7",
   "metadata": {},
   "outputs": [
    {
     "data": {
      "text/plain": [
       "(array([[-1,  1],\n",
       "        [ 0,  1],\n",
       "        [ 1,  1],\n",
       "        [ 2,  1]]),\n",
       " array([[0],\n",
       "        [1],\n",
       "        [2],\n",
       "        [1]]))"
      ]
     },
     "execution_count": 80,
     "metadata": {},
     "output_type": "execute_result"
    }
   ],
   "source": [
    "A, y"
   ]
  },
  {
   "cell_type": "markdown",
   "id": "fd3b4f8a-6d36-4498-a2c7-af806ee75ef2",
   "metadata": {},
   "source": [
    "Metódo dos mínimos quadrados:"
   ]
  },
  {
   "cell_type": "code",
   "execution_count": 90,
   "id": "263afc32-9d90-4617-9bf5-76450f21d84e",
   "metadata": {},
   "outputs": [
    {
     "name": "stdout",
     "output_type": "stream",
     "text": [
      "[0.4] [0.8]\n"
     ]
    }
   ],
   "source": [
    "(m, n) = np.dot(np.dot(np.linalg.pinv(np.dot(A.T, A)), A.T), y)\n",
    "print(mn, n)"
   ]
  },
  {
   "cell_type": "code",
   "execution_count": 91,
   "id": "7bef91b8-e71b-4800-9cb4-a68bc36c1930",
   "metadata": {},
   "outputs": [
    {
     "data": {
      "text/plain": [
       "array([0.8])"
      ]
     },
     "execution_count": 91,
     "metadata": {},
     "output_type": "execute_result"
    }
   ],
   "source": [
    "n"
   ]
  },
  {
   "cell_type": "code",
   "execution_count": 92,
   "id": "e99fdef9-ae7b-43de-a8ea-164188856edd",
   "metadata": {},
   "outputs": [
    {
     "data": {
      "text/plain": [
       "Text(0.5, 1.0, 'Interpolação da reta sobre todos os pontos com otimização pelo MMQ')"
      ]
     },
     "execution_count": 92,
     "metadata": {},
     "output_type": "execute_result"
    },
    {
     "data": {
      "image/png": "[encoded data removed]",
      "text/plain": [
       "<Figure size 720x360 with 1 Axes>"
      ]
     },
     "metadata": {
      "needs_background": "light"
     },
     "output_type": "display_data"
    }
   ],
   "source": [
    "plt.figure(figsize=(10,5))\n",
    "plt.scatter(x1, y1, color = 'green', label='Pares ordenados ( x,y )')\n",
    "plt.scatter(x2, y2, color = 'green')\n",
    "plt.scatter(x3, y3, color = 'green')\n",
    "plt.scatter(x4, y4, color = 'green')\n",
    "\n",
    "v_x = np.linspace(-1, 2)\n",
    "\n",
    "plt.plot(x, y, label = 'Gráfico que liga os pontos')\n",
    "plt.plot(v_x, m * v_x + n, label='Reta otimizada pelo MMQ')\n",
    "plt.grid(True)\n",
    "plt.box(False)\n",
    "plt.legend()\n",
    "plt.title('Interpolação da reta sobre todos os pontos com otimização pelo MMQ')"
   ]
  },
  {
   "cell_type": "code",
   "execution_count": 95,
   "id": "1454046c-0e76-47f9-8112-ff1b3dc2bee0",
   "metadata": {},
   "outputs": [
    {
     "data": {
      "text/plain": [
       "array([0.4       , 0.4244898 , 0.44897959, 0.47346939, 0.49795918,\n",
       "       0.52244898, 0.54693878, 0.57142857, 0.59591837, 0.62040816,\n",
       "       0.64489796, 0.66938776, 0.69387755, 0.71836735, 0.74285714,\n",
       "       0.76734694, 0.79183673, 0.81632653, 0.84081633, 0.86530612,\n",
       "       0.88979592, 0.91428571, 0.93877551, 0.96326531, 0.9877551 ,\n",
       "       1.0122449 , 1.03673469, 1.06122449, 1.08571429, 1.11020408,\n",
       "       1.13469388, 1.15918367, 1.18367347, 1.20816327, 1.23265306,\n",
       "       1.25714286, 1.28163265, 1.30612245, 1.33061224, 1.35510204,\n",
       "       1.37959184, 1.40408163, 1.42857143, 1.45306122, 1.47755102,\n",
       "       1.50204082, 1.52653061, 1.55102041, 1.5755102 , 1.6       ])"
      ]
     },
     "execution_count": 95,
     "metadata": {},
     "output_type": "execute_result"
    }
   ],
   "source": [
    "m * v_x + n"
   ]
  },
  {
   "cell_type": "markdown",
   "id": "1e0c6c16-9d05-471a-a01e-c51312c9b75a",
   "metadata": {},
   "source": [
    "***"
   ]
  },
  {
   "cell_type": "markdown",
   "id": "05a81d69-b5a0-4839-9d19-5fa43e5622b9",
   "metadata": {},
   "source": [
    "### Estatística"
   ]
  }
 ],
 "metadata": {
  "kernelspec": {
   "display_name": "Python 3 (ipykernel)",
   "language": "python",
   "name": "python3"
  },
  "language_info": {
   "codemirror_mode": {
    "name": "ipython",
    "version": 3
   },
   "file_extension": ".py",
   "mimetype": "text/x-python",
   "name": "python",
   "nbconvert_exporter": "python",
   "pygments_lexer": "ipython3",
   "version": "3.10.4"
  }
 },
 "nbformat": 4,
 "nbformat_minor": 5
}
