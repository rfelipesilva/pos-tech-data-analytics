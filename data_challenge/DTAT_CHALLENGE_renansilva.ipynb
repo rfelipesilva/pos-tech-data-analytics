{
 "cells": [
  {
   "cell_type": "markdown",
   "metadata": {
    "id": "NtRYX4I1ucvR"
   },
   "source": [
    "# DATA CHALLENGE\n",
    "\n",
    "---\n",
    "\n",
    "Bem vindos ao primeiro DATA CHALLENGE!\n",
    "\n",
    "Aqui traremos alguns problemas que envolvam python, dados, aprendizado de máquina e afins. O intuito é que vocês tentem ao máximo praticar com esses desafios que trarão por ventura, alguns tópicos interessantes."
   ]
  },
  {
   "cell_type": "markdown",
   "metadata": {
    "id": "xizBCUKsu2Cf"
   },
   "source": [
    "# CHALLENGE: Funções\n",
    "\n",
    "Um dia extra é adicionado ao calendário quase a cada quatro anos como 29 de fevereiro, e o dia é chamado de dia bissexto . Ele corrige o calendário pelo fato de que nosso planeta leva aproximadamente 365,25 dias para orbitar o sol. Um ano bissexto contém um dia bissexto.\n",
    "\n",
    "No calendário gregoriano, três condições são usadas para identificar anos bissextos:\n",
    "\n",
    "- O ano que pode ser dividido por 4, é um ano bissexto, a menos que:\n",
    "  - O ano pode ser dividido por 100, então NÃO é um ano bissexto, a menos que:\n",
    "    - O ano também é divisível por 400. Então é um ano bissexto.\n",
    "\n",
    "Fonte: https://www.timeanddate.com/date/leapyear.html\n",
    "\n",
    "Isso significa que no calendário gregoriano, os anos 2000 e 2400 são bissextos, enquanto 1800, 1900, 2100, 2200, 2300 e 2500 NÃO são anos bissextos.\n",
    "\n",
    "\n",
    "## Tarefa\n",
    "\n",
    "Dado um ano, determine se é um ano bissexto. Se for um ano bissexto, retorne o  `True`, caso contrário, retorne `False`.\n",
    "\n",
    "Observe que o stub de código fornecido lê a entrada e passa argumentos para a função `is_leap`. Só é necessário completar a função `is_leap`.\n",
    "\n",
    "\n"
   ]
  },
  {
   "cell_type": "code",
   "execution_count": 11,
   "metadata": {},
   "outputs": [
    {
     "data": {
      "text/plain": [
       "0"
      ]
     },
     "execution_count": 11,
     "metadata": {},
     "output_type": "execute_result"
    }
   ],
   "source": [
    "1800 % 4"
   ]
  },
  {
   "cell_type": "code",
   "execution_count": 18,
   "metadata": {},
   "outputs": [
    {
     "data": {
      "text/plain": [
       "18.0"
      ]
     },
     "execution_count": 18,
     "metadata": {},
     "output_type": "execute_result"
    }
   ],
   "source": [
    "1800 / 100"
   ]
  },
  {
   "cell_type": "code",
   "execution_count": 5,
   "metadata": {
    "id": "c32TI3ATuUpE"
   },
   "outputs": [
    {
     "name": "stdin",
     "output_type": "stream",
     "text": [
      " 1800\n"
     ]
    },
    {
     "name": "stdout",
     "output_type": "stream",
     "text": [
      "True\n"
     ]
    }
   ],
   "source": [
    "def is_leap(year):\n",
    "    leap = False\n",
    "\n",
    "    # My code\n",
    "    if year % 4 == 0:\n",
    "        leap = True\n",
    "    \n",
    "    return leap\n",
    "\n",
    "year = int(input())\n",
    "print(is_leap(year))"
   ]
  },
  {
   "cell_type": "markdown",
   "metadata": {
    "id": "HFCWMDYsxAv1"
   },
   "source": [
    "# Observação:\n",
    "\n",
    "Seu objetico é só escrever sua lógica dentro da função e enviar o seu arquivo para `profmatheus.pavani@fiap.com.br` e `profedgard.kiriyama@fiap.com.br` onde apenas executaremos seu código para testar, portanto: **É PROIBIDO ALTERAR A FUNÇÃO**, o que significa que você deve manter a estrutura, apenas colocando seu lógica dentro para apenas executarmos a célula de código.\n",
    "\n",
    "Favor trocar o campo `seunomeaqui` no nome do arquivo para seu nome , exemplo:\n",
    "\n",
    "- DTAT_CHALLENGE_matheuspavani.ipynb"
   ]
  }
 ],
 "metadata": {
  "colab": {
   "provenance": []
  },
  "kernelspec": {
   "display_name": "Python 3 (ipykernel)",
   "language": "python",
   "name": "python3"
  },
  "language_info": {
   "codemirror_mode": {
    "name": "ipython",
    "version": 3
   },
   "file_extension": ".py",
   "mimetype": "text/x-python",
   "name": "python",
   "nbconvert_exporter": "python",
   "pygments_lexer": "ipython3",
   "version": "3.10.4"
  }
 },
 "nbformat": 4,
 "nbformat_minor": 4
}
