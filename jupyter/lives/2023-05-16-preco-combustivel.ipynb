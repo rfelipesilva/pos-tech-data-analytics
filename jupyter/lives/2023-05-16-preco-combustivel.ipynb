{
 "cells": [
  {
   "cell_type": "markdown",
   "id": "76d48aa0-6d3b-46d4-972c-83354dabccfe",
   "metadata": {
    "tags": []
   },
   "source": [
    "## LIVE - SERIE HISTÓRICA DE PREÇOS DE COMBUSTÍVEIS\n",
    "- Source: https://www.gov.br/anp/pt-br/centrais-de-conteudo/dados-abertos/serie-historica-de-precos-de-combustiveis\n",
    "- Scope: 2° semestre de 2022"
   ]
  },
  {
   "cell_type": "code",
   "execution_count": 1,
   "id": "398beb5c-7e92-4c8f-98fd-582381a8f687",
   "metadata": {
    "tags": []
   },
   "outputs": [],
   "source": [
    "import polars as pl"
   ]
  },
  {
   "cell_type": "markdown",
   "id": "91b1f5e0-1468-4f61-8522-25b212c8effd",
   "metadata": {
    "tags": []
   },
   "source": [
    "### Reading data"
   ]
  },
  {
   "cell_type": "code",
   "execution_count": 2,
   "id": "2a1ae394-59db-43a3-a6cb-4c7f3664f75d",
   "metadata": {
    "tags": []
   },
   "outputs": [],
   "source": [
    "df = pl.read_csv('..\\..\\data\\live-2023-05-16\\ca-2022-02\\ca-2022-02.csv',\n",
    "                separator=';',\n",
    "                try_parse_dates=True)"
   ]
  },
  {
   "cell_type": "code",
   "execution_count": 3,
   "id": "cabb73ce-e81f-46f4-913b-9635a08f17e2",
   "metadata": {
    "tags": []
   },
   "outputs": [
    {
     "data": {
      "text/html": [
       "<div><style>\n",
       ".dataframe > thead > tr > th,\n",
       ".dataframe > tbody > tr > td {\n",
       "  text-align: right;\n",
       "}\n",
       "</style>\n",
       "<small>shape: (5, 16)</small><table border=\"1\" class=\"dataframe\"><thead><tr><th>Regiao - Sigla</th><th>Estado - Sigla</th><th>Municipio</th><th>Revenda</th><th>CNPJ da Revenda</th><th>Nome da Rua</th><th>Numero Rua</th><th>Complemento</th><th>Bairro</th><th>Cep</th><th>Produto</th><th>Data da Coleta</th><th>Valor de Venda</th><th>Valor de Compra</th><th>Unidade de Medida</th><th>Bandeira</th></tr><tr><td>str</td><td>str</td><td>str</td><td>str</td><td>str</td><td>str</td><td>str</td><td>str</td><td>str</td><td>str</td><td>str</td><td>date</td><td>str</td><td>str</td><td>str</td><td>str</td></tr></thead><tbody><tr><td>&quot;SE&quot;</td><td>&quot;ES&quot;</td><td>&quot;COLATINA&quot;</td><td>&quot;SAO FRANCISCO …</td><td>&quot; 08.519.545/00…</td><td>&quot;PRACA FIDELIS …</td><td>&quot;35&quot;</td><td>null</td><td>&quot;LACE&quot;</td><td>&quot;29703-030&quot;</td><td>&quot;GASOLINA ADITI…</td><td>2022-07-01</td><td>&quot;7,48&quot;</td><td>null</td><td>&quot;R$ / litro&quot;</td><td>&quot;VIBRA ENERGIA&quot;</td></tr><tr><td>&quot;SE&quot;</td><td>&quot;ES&quot;</td><td>&quot;COLATINA&quot;</td><td>&quot;SAO FRANCISCO …</td><td>&quot; 08.519.545/00…</td><td>&quot;PRACA FIDELIS …</td><td>&quot;35&quot;</td><td>null</td><td>&quot;LACE&quot;</td><td>&quot;29703-030&quot;</td><td>&quot;GASOLINA&quot;</td><td>2022-07-01</td><td>&quot;7,38&quot;</td><td>null</td><td>&quot;R$ / litro&quot;</td><td>&quot;VIBRA ENERGIA&quot;</td></tr><tr><td>&quot;SE&quot;</td><td>&quot;ES&quot;</td><td>&quot;COLATINA&quot;</td><td>&quot;POSTO MOTOCAP …</td><td>&quot; 04.814.652/00…</td><td>&quot;PRACA ALMIRANT…</td><td>&quot;52&quot;</td><td>&quot;LETRA A&quot;</td><td>&quot;LACE&quot;</td><td>&quot;29703-055&quot;</td><td>&quot;DIESEL S10&quot;</td><td>2022-07-01</td><td>&quot;7,69&quot;</td><td>null</td><td>&quot;R$ / litro&quot;</td><td>&quot;VIBRA ENERGIA&quot;</td></tr><tr><td>&quot;SE&quot;</td><td>&quot;ES&quot;</td><td>&quot;COLATINA&quot;</td><td>&quot;POSTO MOTOCAP …</td><td>&quot; 04.814.652/00…</td><td>&quot;PRACA ALMIRANT…</td><td>&quot;52&quot;</td><td>&quot;LETRA A&quot;</td><td>&quot;LACE&quot;</td><td>&quot;29703-055&quot;</td><td>&quot;ETANOL&quot;</td><td>2022-07-01</td><td>&quot;5,99&quot;</td><td>null</td><td>&quot;R$ / litro&quot;</td><td>&quot;VIBRA ENERGIA&quot;</td></tr><tr><td>&quot;SE&quot;</td><td>&quot;ES&quot;</td><td>&quot;COLATINA&quot;</td><td>&quot;POSTO MOTOCAP …</td><td>&quot; 04.814.652/00…</td><td>&quot;PRACA ALMIRANT…</td><td>&quot;52&quot;</td><td>&quot;LETRA A&quot;</td><td>&quot;LACE&quot;</td><td>&quot;29703-055&quot;</td><td>&quot;GASOLINA&quot;</td><td>2022-07-01</td><td>&quot;7,39&quot;</td><td>null</td><td>&quot;R$ / litro&quot;</td><td>&quot;VIBRA ENERGIA&quot;</td></tr></tbody></table></div>"
      ],
      "text/plain": [
       "shape: (5, 16)\n",
       "┌────────────┬──────────┬───────────┬────────────────────────┬───┬──────────┬──────────┬────────────┬───────────────┐\n",
       "│ Regiao -   ┆ Estado - ┆ Municipio ┆ Revenda                ┆ … ┆ Valor de ┆ Valor de ┆ Unidade de ┆ Bandeira      │\n",
       "│ Sigla      ┆ Sigla    ┆ ---       ┆ ---                    ┆   ┆ Venda    ┆ Compra   ┆ Medida     ┆ ---           │\n",
       "│ ---        ┆ ---      ┆ str       ┆ str                    ┆   ┆ ---      ┆ ---      ┆ ---        ┆ str           │\n",
       "│ str        ┆ str      ┆           ┆                        ┆   ┆ str      ┆ str      ┆ str        ┆               │\n",
       "╞════════════╪══════════╪═══════════╪════════════════════════╪═══╪══════════╪══════════╪════════════╪═══════════════╡\n",
       "│ SE         ┆ ES       ┆ COLATINA  ┆ SAO FRANCISCO DE ASSIS ┆ … ┆ 7,48     ┆ null     ┆ R$ / litro ┆ VIBRA ENERGIA │\n",
       "│            ┆          ┆           ┆ COMERCIO …             ┆   ┆          ┆          ┆            ┆               │\n",
       "│ SE         ┆ ES       ┆ COLATINA  ┆ SAO FRANCISCO DE ASSIS ┆ … ┆ 7,38     ┆ null     ┆ R$ / litro ┆ VIBRA ENERGIA │\n",
       "│            ┆          ┆           ┆ COMERCIO …             ┆   ┆          ┆          ┆            ┆               │\n",
       "│ SE         ┆ ES       ┆ COLATINA  ┆ POSTO MOTOCAP LTDA     ┆ … ┆ 7,69     ┆ null     ┆ R$ / litro ┆ VIBRA ENERGIA │\n",
       "│ SE         ┆ ES       ┆ COLATINA  ┆ POSTO MOTOCAP LTDA     ┆ … ┆ 5,99     ┆ null     ┆ R$ / litro ┆ VIBRA ENERGIA │\n",
       "│ SE         ┆ ES       ┆ COLATINA  ┆ POSTO MOTOCAP LTDA     ┆ … ┆ 7,39     ┆ null     ┆ R$ / litro ┆ VIBRA ENERGIA │\n",
       "└────────────┴──────────┴───────────┴────────────────────────┴───┴──────────┴──────────┴────────────┴───────────────┘"
      ]
     },
     "execution_count": 3,
     "metadata": {},
     "output_type": "execute_result"
    }
   ],
   "source": [
    "df.head()"
   ]
  },
  {
   "cell_type": "markdown",
   "id": "45740724-7cc4-4305-a0ff-64389f94f258",
   "metadata": {
    "tags": []
   },
   "source": [
    "### Converting column type"
   ]
  },
  {
   "cell_type": "code",
   "execution_count": 4,
   "id": "3981e1e7-6335-4ac1-87eb-f8f02616937a",
   "metadata": {
    "tags": []
   },
   "outputs": [
    {
     "data": {
      "text/html": [
       "<div><style>\n",
       ".dataframe > thead > tr > th,\n",
       ".dataframe > tbody > tr > td {\n",
       "  text-align: right;\n",
       "}\n",
       "</style>\n",
       "<small>shape: (5, 16)</small><table border=\"1\" class=\"dataframe\"><thead><tr><th>Regiao - Sigla</th><th>Estado - Sigla</th><th>Municipio</th><th>Revenda</th><th>CNPJ da Revenda</th><th>Nome da Rua</th><th>Numero Rua</th><th>Complemento</th><th>Bairro</th><th>Cep</th><th>Produto</th><th>Data da Coleta</th><th>Valor de Venda</th><th>Valor de Compra</th><th>Unidade de Medida</th><th>Bandeira</th></tr><tr><td>str</td><td>str</td><td>str</td><td>str</td><td>str</td><td>str</td><td>str</td><td>str</td><td>str</td><td>str</td><td>str</td><td>date</td><td>f64</td><td>str</td><td>str</td><td>str</td></tr></thead><tbody><tr><td>&quot;SE&quot;</td><td>&quot;ES&quot;</td><td>&quot;COLATINA&quot;</td><td>&quot;SAO FRANCISCO …</td><td>&quot; 08.519.545/00…</td><td>&quot;PRACA FIDELIS …</td><td>&quot;35&quot;</td><td>null</td><td>&quot;LACE&quot;</td><td>&quot;29703-030&quot;</td><td>&quot;GASOLINA ADITI…</td><td>2022-07-01</td><td>7.48</td><td>null</td><td>&quot;R$ / litro&quot;</td><td>&quot;VIBRA ENERGIA&quot;</td></tr><tr><td>&quot;SE&quot;</td><td>&quot;ES&quot;</td><td>&quot;COLATINA&quot;</td><td>&quot;SAO FRANCISCO …</td><td>&quot; 08.519.545/00…</td><td>&quot;PRACA FIDELIS …</td><td>&quot;35&quot;</td><td>null</td><td>&quot;LACE&quot;</td><td>&quot;29703-030&quot;</td><td>&quot;GASOLINA&quot;</td><td>2022-07-01</td><td>7.38</td><td>null</td><td>&quot;R$ / litro&quot;</td><td>&quot;VIBRA ENERGIA&quot;</td></tr><tr><td>&quot;SE&quot;</td><td>&quot;ES&quot;</td><td>&quot;COLATINA&quot;</td><td>&quot;POSTO MOTOCAP …</td><td>&quot; 04.814.652/00…</td><td>&quot;PRACA ALMIRANT…</td><td>&quot;52&quot;</td><td>&quot;LETRA A&quot;</td><td>&quot;LACE&quot;</td><td>&quot;29703-055&quot;</td><td>&quot;DIESEL S10&quot;</td><td>2022-07-01</td><td>7.69</td><td>null</td><td>&quot;R$ / litro&quot;</td><td>&quot;VIBRA ENERGIA&quot;</td></tr><tr><td>&quot;SE&quot;</td><td>&quot;ES&quot;</td><td>&quot;COLATINA&quot;</td><td>&quot;POSTO MOTOCAP …</td><td>&quot; 04.814.652/00…</td><td>&quot;PRACA ALMIRANT…</td><td>&quot;52&quot;</td><td>&quot;LETRA A&quot;</td><td>&quot;LACE&quot;</td><td>&quot;29703-055&quot;</td><td>&quot;ETANOL&quot;</td><td>2022-07-01</td><td>5.99</td><td>null</td><td>&quot;R$ / litro&quot;</td><td>&quot;VIBRA ENERGIA&quot;</td></tr><tr><td>&quot;SE&quot;</td><td>&quot;ES&quot;</td><td>&quot;COLATINA&quot;</td><td>&quot;POSTO MOTOCAP …</td><td>&quot; 04.814.652/00…</td><td>&quot;PRACA ALMIRANT…</td><td>&quot;52&quot;</td><td>&quot;LETRA A&quot;</td><td>&quot;LACE&quot;</td><td>&quot;29703-055&quot;</td><td>&quot;GASOLINA&quot;</td><td>2022-07-01</td><td>7.39</td><td>null</td><td>&quot;R$ / litro&quot;</td><td>&quot;VIBRA ENERGIA&quot;</td></tr></tbody></table></div>"
      ],
      "text/plain": [
       "shape: (5, 16)\n",
       "┌────────────┬──────────┬───────────┬────────────────────────┬───┬──────────┬──────────┬────────────┬───────────────┐\n",
       "│ Regiao -   ┆ Estado - ┆ Municipio ┆ Revenda                ┆ … ┆ Valor de ┆ Valor de ┆ Unidade de ┆ Bandeira      │\n",
       "│ Sigla      ┆ Sigla    ┆ ---       ┆ ---                    ┆   ┆ Venda    ┆ Compra   ┆ Medida     ┆ ---           │\n",
       "│ ---        ┆ ---      ┆ str       ┆ str                    ┆   ┆ ---      ┆ ---      ┆ ---        ┆ str           │\n",
       "│ str        ┆ str      ┆           ┆                        ┆   ┆ f64      ┆ str      ┆ str        ┆               │\n",
       "╞════════════╪══════════╪═══════════╪════════════════════════╪═══╪══════════╪══════════╪════════════╪═══════════════╡\n",
       "│ SE         ┆ ES       ┆ COLATINA  ┆ SAO FRANCISCO DE ASSIS ┆ … ┆ 7.48     ┆ null     ┆ R$ / litro ┆ VIBRA ENERGIA │\n",
       "│            ┆          ┆           ┆ COMERCIO …             ┆   ┆          ┆          ┆            ┆               │\n",
       "│ SE         ┆ ES       ┆ COLATINA  ┆ SAO FRANCISCO DE ASSIS ┆ … ┆ 7.38     ┆ null     ┆ R$ / litro ┆ VIBRA ENERGIA │\n",
       "│            ┆          ┆           ┆ COMERCIO …             ┆   ┆          ┆          ┆            ┆               │\n",
       "│ SE         ┆ ES       ┆ COLATINA  ┆ POSTO MOTOCAP LTDA     ┆ … ┆ 7.69     ┆ null     ┆ R$ / litro ┆ VIBRA ENERGIA │\n",
       "│ SE         ┆ ES       ┆ COLATINA  ┆ POSTO MOTOCAP LTDA     ┆ … ┆ 5.99     ┆ null     ┆ R$ / litro ┆ VIBRA ENERGIA │\n",
       "│ SE         ┆ ES       ┆ COLATINA  ┆ POSTO MOTOCAP LTDA     ┆ … ┆ 7.39     ┆ null     ┆ R$ / litro ┆ VIBRA ENERGIA │\n",
       "└────────────┴──────────┴───────────┴────────────────────────┴───┴──────────┴──────────┴────────────┴───────────────┘"
      ]
     },
     "execution_count": 4,
     "metadata": {},
     "output_type": "execute_result"
    }
   ],
   "source": [
    "df = df.with_columns(pl.col('Valor de Venda').str.replace(',', '.'))\n",
    "df = df.with_columns(pl.col('Valor de Venda').cast(pl.Float64))\n",
    "df.head()"
   ]
  },
  {
   "cell_type": "markdown",
   "id": "0fc55c18-8efe-476e-afd3-8b15459bd5a4",
   "metadata": {
    "tags": []
   },
   "source": [
    "### \"Select\" Example"
   ]
  },
  {
   "cell_type": "code",
   "execution_count": 5,
   "id": "fbb7ab38-4b1a-483a-b410-603d42680b64",
   "metadata": {
    "tags": []
   },
   "outputs": [
    {
     "data": {
      "text/html": [
       "<div><style>\n",
       ".dataframe > thead > tr > th,\n",
       ".dataframe > tbody > tr > td {\n",
       "  text-align: right;\n",
       "}\n",
       "</style>\n",
       "<small>shape: (5, 7)</small><table border=\"1\" class=\"dataframe\"><thead><tr><th>Regiao - Sigla</th><th>Estado - Sigla</th><th>Revenda</th><th>Produto</th><th>Data da Coleta</th><th>Valor de Venda</th><th>Bandeira</th></tr><tr><td>str</td><td>str</td><td>str</td><td>str</td><td>date</td><td>f64</td><td>str</td></tr></thead><tbody><tr><td>&quot;SE&quot;</td><td>&quot;ES&quot;</td><td>&quot;SAO FRANCISCO …</td><td>&quot;GASOLINA ADITI…</td><td>2022-07-01</td><td>7.48</td><td>&quot;VIBRA ENERGIA&quot;</td></tr><tr><td>&quot;SE&quot;</td><td>&quot;ES&quot;</td><td>&quot;SAO FRANCISCO …</td><td>&quot;GASOLINA&quot;</td><td>2022-07-01</td><td>7.38</td><td>&quot;VIBRA ENERGIA&quot;</td></tr><tr><td>&quot;SE&quot;</td><td>&quot;ES&quot;</td><td>&quot;POSTO MOTOCAP …</td><td>&quot;DIESEL S10&quot;</td><td>2022-07-01</td><td>7.69</td><td>&quot;VIBRA ENERGIA&quot;</td></tr><tr><td>&quot;SE&quot;</td><td>&quot;ES&quot;</td><td>&quot;POSTO MOTOCAP …</td><td>&quot;ETANOL&quot;</td><td>2022-07-01</td><td>5.99</td><td>&quot;VIBRA ENERGIA&quot;</td></tr><tr><td>&quot;SE&quot;</td><td>&quot;ES&quot;</td><td>&quot;POSTO MOTOCAP …</td><td>&quot;GASOLINA&quot;</td><td>2022-07-01</td><td>7.39</td><td>&quot;VIBRA ENERGIA&quot;</td></tr></tbody></table></div>"
      ],
      "text/plain": [
       "shape: (5, 7)\n",
       "┌────────────────┬────────────────┬─────────────────────┬────────────┬────────────────┬────────────────┬───────────────┐\n",
       "│ Regiao - Sigla ┆ Estado - Sigla ┆ Revenda             ┆ Produto    ┆ Data da Coleta ┆ Valor de Venda ┆ Bandeira      │\n",
       "│ ---            ┆ ---            ┆ ---                 ┆ ---        ┆ ---            ┆ ---            ┆ ---           │\n",
       "│ str            ┆ str            ┆ str                 ┆ str        ┆ date           ┆ f64            ┆ str           │\n",
       "╞════════════════╪════════════════╪═════════════════════╪════════════╪════════════════╪════════════════╪═══════════════╡\n",
       "│ SE             ┆ ES             ┆ SAO FRANCISCO DE    ┆ GASOLINA   ┆ 2022-07-01     ┆ 7.48           ┆ VIBRA ENERGIA │\n",
       "│                ┆                ┆ ASSIS COMERCIO …    ┆ ADITIVADA  ┆                ┆                ┆               │\n",
       "│ SE             ┆ ES             ┆ SAO FRANCISCO DE    ┆ GASOLINA   ┆ 2022-07-01     ┆ 7.38           ┆ VIBRA ENERGIA │\n",
       "│                ┆                ┆ ASSIS COMERCIO …    ┆            ┆                ┆                ┆               │\n",
       "│ SE             ┆ ES             ┆ POSTO MOTOCAP LTDA  ┆ DIESEL S10 ┆ 2022-07-01     ┆ 7.69           ┆ VIBRA ENERGIA │\n",
       "│ SE             ┆ ES             ┆ POSTO MOTOCAP LTDA  ┆ ETANOL     ┆ 2022-07-01     ┆ 5.99           ┆ VIBRA ENERGIA │\n",
       "│ SE             ┆ ES             ┆ POSTO MOTOCAP LTDA  ┆ GASOLINA   ┆ 2022-07-01     ┆ 7.39           ┆ VIBRA ENERGIA │\n",
       "└────────────────┴────────────────┴─────────────────────┴────────────┴────────────────┴────────────────┴───────────────┘"
      ]
     },
     "execution_count": 5,
     "metadata": {},
     "output_type": "execute_result"
    }
   ],
   "source": [
    "df.select([\"Regiao - Sigla\", \"Estado - Sigla\", \"Revenda\", \"Produto\",\n",
    "           \"Data da Coleta\", \"Valor de Venda\", \"Bandeira\"]).head()"
   ]
  },
  {
   "cell_type": "markdown",
   "id": "04aebf79-d3c6-42ec-b4d2-369b537a845b",
   "metadata": {
    "tags": []
   },
   "source": [
    "### Converting Polars to Pandas"
   ]
  },
  {
   "cell_type": "code",
   "execution_count": 6,
   "id": "e834edb5-379e-4ec8-bc7a-6471b62da95b",
   "metadata": {
    "tags": []
   },
   "outputs": [
    {
     "data": {
      "text/html": [
       "<div>\n",
       "<style scoped>\n",
       "    .dataframe tbody tr th:only-of-type {\n",
       "        vertical-align: middle;\n",
       "    }\n",
       "\n",
       "    .dataframe tbody tr th {\n",
       "        vertical-align: top;\n",
       "    }\n",
       "\n",
       "    .dataframe thead th {\n",
       "        text-align: right;\n",
       "    }\n",
       "</style>\n",
       "<table border=\"1\" class=\"dataframe\">\n",
       "  <thead>\n",
       "    <tr style=\"text-align: right;\">\n",
       "      <th></th>\n",
       "      <th>Regiao - Sigla</th>\n",
       "      <th>Estado - Sigla</th>\n",
       "      <th>Revenda</th>\n",
       "      <th>Produto</th>\n",
       "      <th>Data da Coleta</th>\n",
       "      <th>Valor de Venda</th>\n",
       "      <th>Bandeira</th>\n",
       "    </tr>\n",
       "  </thead>\n",
       "  <tbody>\n",
       "    <tr>\n",
       "      <th>0</th>\n",
       "      <td>SE</td>\n",
       "      <td>ES</td>\n",
       "      <td>SAO FRANCISCO DE ASSIS COMERCIO DE COMBUSTIVEI...</td>\n",
       "      <td>GASOLINA ADITIVADA</td>\n",
       "      <td>2022-07-01</td>\n",
       "      <td>7.48</td>\n",
       "      <td>VIBRA ENERGIA</td>\n",
       "    </tr>\n",
       "    <tr>\n",
       "      <th>1</th>\n",
       "      <td>SE</td>\n",
       "      <td>ES</td>\n",
       "      <td>SAO FRANCISCO DE ASSIS COMERCIO DE COMBUSTIVEI...</td>\n",
       "      <td>GASOLINA</td>\n",
       "      <td>2022-07-01</td>\n",
       "      <td>7.38</td>\n",
       "      <td>VIBRA ENERGIA</td>\n",
       "    </tr>\n",
       "    <tr>\n",
       "      <th>2</th>\n",
       "      <td>SE</td>\n",
       "      <td>ES</td>\n",
       "      <td>POSTO MOTOCAP LTDA</td>\n",
       "      <td>DIESEL S10</td>\n",
       "      <td>2022-07-01</td>\n",
       "      <td>7.69</td>\n",
       "      <td>VIBRA ENERGIA</td>\n",
       "    </tr>\n",
       "    <tr>\n",
       "      <th>3</th>\n",
       "      <td>SE</td>\n",
       "      <td>ES</td>\n",
       "      <td>POSTO MOTOCAP LTDA</td>\n",
       "      <td>ETANOL</td>\n",
       "      <td>2022-07-01</td>\n",
       "      <td>5.99</td>\n",
       "      <td>VIBRA ENERGIA</td>\n",
       "    </tr>\n",
       "    <tr>\n",
       "      <th>4</th>\n",
       "      <td>SE</td>\n",
       "      <td>ES</td>\n",
       "      <td>POSTO MOTOCAP LTDA</td>\n",
       "      <td>GASOLINA</td>\n",
       "      <td>2022-07-01</td>\n",
       "      <td>7.39</td>\n",
       "      <td>VIBRA ENERGIA</td>\n",
       "    </tr>\n",
       "  </tbody>\n",
       "</table>\n",
       "</div>"
      ],
      "text/plain": [
       "  Regiao - Sigla Estado - Sigla  \\\n",
       "0             SE             ES   \n",
       "1             SE             ES   \n",
       "2             SE             ES   \n",
       "3             SE             ES   \n",
       "4             SE             ES   \n",
       "\n",
       "                                             Revenda             Produto  \\\n",
       "0  SAO FRANCISCO DE ASSIS COMERCIO DE COMBUSTIVEI...  GASOLINA ADITIVADA   \n",
       "1  SAO FRANCISCO DE ASSIS COMERCIO DE COMBUSTIVEI...            GASOLINA   \n",
       "2                                 POSTO MOTOCAP LTDA          DIESEL S10   \n",
       "3                                 POSTO MOTOCAP LTDA              ETANOL   \n",
       "4                                 POSTO MOTOCAP LTDA            GASOLINA   \n",
       "\n",
       "  Data da Coleta  Valor de Venda       Bandeira  \n",
       "0     2022-07-01            7.48  VIBRA ENERGIA  \n",
       "1     2022-07-01            7.38  VIBRA ENERGIA  \n",
       "2     2022-07-01            7.69  VIBRA ENERGIA  \n",
       "3     2022-07-01            5.99  VIBRA ENERGIA  \n",
       "4     2022-07-01            7.39  VIBRA ENERGIA  "
      ]
     },
     "execution_count": 6,
     "metadata": {},
     "output_type": "execute_result"
    }
   ],
   "source": [
    "df_pandas = df.select([\"Regiao - Sigla\", \"Estado - Sigla\", \"Revenda\", \"Produto\",\n",
    "           \"Data da Coleta\", \"Valor de Venda\", \"Bandeira\"]).to_pandas()\n",
    "df_pandas.head()"
   ]
  },
  {
   "cell_type": "markdown",
   "id": "0d5e37bb-4e0a-45e4-be96-3e1ab944b4e4",
   "metadata": {
    "tags": []
   },
   "source": [
    "### Importing new libs"
   ]
  },
  {
   "cell_type": "code",
   "execution_count": 7,
   "id": "e9705073-1065-496b-ab2e-6ee68953572c",
   "metadata": {
    "tags": []
   },
   "outputs": [],
   "source": [
    "import matplotlib.pyplot as plt\n",
    "import seaborn as sns"
   ]
  },
  {
   "cell_type": "markdown",
   "id": "86dd2f19-0ed0-4149-b8b7-630c635c2f7d",
   "metadata": {
    "tags": []
   },
   "source": [
    "### EDA"
   ]
  },
  {
   "cell_type": "code",
   "execution_count": 15,
   "id": "8b253c2c-c94a-44e1-bf3d-a50a6156ac76",
   "metadata": {
    "tags": []
   },
   "outputs": [
    {
     "data": {
      "text/plain": [
       "5"
      ]
     },
     "execution_count": 15,
     "metadata": {},
     "output_type": "execute_result"
    }
   ],
   "source": [
    "len(df['Regiao - Sigla'].unique())"
   ]
  },
  {
   "cell_type": "code",
   "execution_count": 16,
   "id": "7f0546cd-7f78-47eb-80cf-8709e7c1b8b9",
   "metadata": {
    "tags": []
   },
   "outputs": [
    {
     "data": {
      "text/html": [
       "<div><style>\n",
       ".dataframe > thead > tr > th,\n",
       ".dataframe > tbody > tr > td {\n",
       "  text-align: right;\n",
       "}\n",
       "</style>\n",
       "<small>shape: (5,)</small><table border=\"1\" class=\"dataframe\"><thead><tr><th>Regiao - Sigla</th></tr><tr><td>str</td></tr></thead><tbody><tr><td>&quot;CO&quot;</td></tr><tr><td>&quot;NE&quot;</td></tr><tr><td>&quot;S&quot;</td></tr><tr><td>&quot;N&quot;</td></tr><tr><td>&quot;SE&quot;</td></tr></tbody></table></div>"
      ],
      "text/plain": [
       "shape: (5,)\n",
       "Series: 'Regiao - Sigla' [str]\n",
       "[\n",
       "\t\"CO\"\n",
       "\t\"NE\"\n",
       "\t\"S\"\n",
       "\t\"N\"\n",
       "\t\"SE\"\n",
       "]"
      ]
     },
     "execution_count": 16,
     "metadata": {},
     "output_type": "execute_result"
    }
   ],
   "source": [
    "df['Regiao - Sigla'].unique()"
   ]
  },
  {
   "cell_type": "code",
   "execution_count": 21,
   "id": "f0b7527f-2f48-4ecc-a326-974ac594ffe3",
   "metadata": {
    "tags": []
   },
   "outputs": [
    {
     "data": {
      "text/html": [
       "<div><style>\n",
       ".dataframe > thead > tr > th,\n",
       ".dataframe > tbody > tr > td {\n",
       "  text-align: right;\n",
       "}\n",
       "</style>\n",
       "<small>shape: (5, 2)</small><table border=\"1\" class=\"dataframe\"><thead><tr><th>Regiao - Sigla</th><th>counts</th></tr><tr><td>str</td><td>u32</td></tr></thead><tbody><tr><td>&quot;CO&quot;</td><td>33552</td></tr><tr><td>&quot;SE&quot;</td><td>182865</td></tr><tr><td>&quot;N&quot;</td><td>24973</td></tr><tr><td>&quot;NE&quot;</td><td>71457</td></tr><tr><td>&quot;S&quot;</td><td>65231</td></tr></tbody></table></div>"
      ],
      "text/plain": [
       "shape: (5, 2)\n",
       "┌────────────────┬────────┐\n",
       "│ Regiao - Sigla ┆ counts │\n",
       "│ ---            ┆ ---    │\n",
       "│ str            ┆ u32    │\n",
       "╞════════════════╪════════╡\n",
       "│ CO             ┆ 33552  │\n",
       "│ SE             ┆ 182865 │\n",
       "│ N              ┆ 24973  │\n",
       "│ NE             ┆ 71457  │\n",
       "│ S              ┆ 65231  │\n",
       "└────────────────┴────────┘"
      ]
     },
     "execution_count": 21,
     "metadata": {},
     "output_type": "execute_result"
    }
   ],
   "source": [
    "df['Regiao - Sigla'].value_counts() #Polars don't have \"normalize\" parameters pandas equivalent"
   ]
  },
  {
   "cell_type": "code",
   "execution_count": 23,
   "id": "e75b1f46-5705-41bd-a8a8-b72781f97bbc",
   "metadata": {
    "tags": []
   },
   "outputs": [
    {
     "data": {
      "text/html": [
       "<div><style>\n",
       ".dataframe > thead > tr > th,\n",
       ".dataframe > tbody > tr > td {\n",
       "  text-align: right;\n",
       "}\n",
       "</style>\n",
       "<small>shape: (9, 2)</small><table border=\"1\" class=\"dataframe\"><thead><tr><th>statistic</th><th>value</th></tr><tr><td>str</td><td>f64</td></tr></thead><tbody><tr><td>&quot;count&quot;</td><td>378078.0</td></tr><tr><td>&quot;null_count&quot;</td><td>0.0</td></tr><tr><td>&quot;mean&quot;</td><td>5.642364</td></tr><tr><td>&quot;std&quot;</td><td>1.200443</td></tr><tr><td>&quot;min&quot;</td><td>2.49</td></tr><tr><td>&quot;max&quot;</td><td>9.65</td></tr><tr><td>&quot;median&quot;</td><td>5.49</td></tr><tr><td>&quot;25%&quot;</td><td>4.85</td></tr><tr><td>&quot;75%&quot;</td><td>6.65</td></tr></tbody></table></div>"
      ],
      "text/plain": [
       "shape: (9, 2)\n",
       "┌────────────┬──────────┐\n",
       "│ statistic  ┆ value    │\n",
       "│ ---        ┆ ---      │\n",
       "│ str        ┆ f64      │\n",
       "╞════════════╪══════════╡\n",
       "│ count      ┆ 378078.0 │\n",
       "│ null_count ┆ 0.0      │\n",
       "│ mean       ┆ 5.642364 │\n",
       "│ std        ┆ 1.200443 │\n",
       "│ min        ┆ 2.49     │\n",
       "│ max        ┆ 9.65     │\n",
       "│ median     ┆ 5.49     │\n",
       "│ 25%        ┆ 4.85     │\n",
       "│ 75%        ┆ 6.65     │\n",
       "└────────────┴──────────┘"
      ]
     },
     "execution_count": 23,
     "metadata": {},
     "output_type": "execute_result"
    }
   ],
   "source": [
    "df['Valor de Venda'].describe()"
   ]
  },
  {
   "cell_type": "markdown",
   "id": "184fac1c-6ecd-49a2-b05d-e59e97dc7bc0",
   "metadata": {
    "tags": []
   },
   "source": [
    "#### Boxplot"
   ]
  },
  {
   "cell_type": "code",
   "execution_count": 25,
   "id": "2526b408-1032-46a1-a26d-bfc9d22a884f",
   "metadata": {
    "tags": []
   },
   "outputs": [
    {
     "data": {
      "text/plain": [
       "<Axes: ylabel='Valor de Venda'>"
      ]
     },
     "execution_count": 25,
     "metadata": {},
     "output_type": "execute_result"
    },
    {
     "data": {
      "image/png": "[encoded data removed]",
      "text/plain": [
       "<Figure size 640x480 with 1 Axes>"
      ]
     },
     "metadata": {},
     "output_type": "display_data"
    }
   ],
   "source": [
    "sns.boxplot(y= df['Valor de Venda'])"
   ]
  },
  {
   "cell_type": "markdown",
   "id": "ef755d77-a629-4c3f-a6cf-b01e1f498db7",
   "metadata": {
    "tags": []
   },
   "source": [
    "#### Count unique \"Product\" type"
   ]
  },
  {
   "cell_type": "code",
   "execution_count": 44,
   "id": "3698cc3e-f3d5-4a11-a533-e3f12b870d03",
   "metadata": {
    "tags": []
   },
   "outputs": [
    {
     "data": {
      "text/html": [
       "<div><style>\n",
       ".dataframe > thead > tr > th,\n",
       ".dataframe > tbody > tr > td {\n",
       "  text-align: right;\n",
       "}\n",
       "</style>\n",
       "<small>shape: (6, 2)</small><table border=\"1\" class=\"dataframe\"><thead><tr><th>Produto</th><th>counts</th></tr><tr><td>str</td><td>u32</td></tr></thead><tbody><tr><td>&quot;GNV&quot;</td><td>7735</td></tr><tr><td>&quot;DIESEL S10&quot;</td><td>74662</td></tr><tr><td>&quot;GASOLINA ADITI…</td><td>73068</td></tr><tr><td>&quot;GASOLINA&quot;</td><td>96323</td></tr><tr><td>&quot;DIESEL&quot;</td><td>41762</td></tr><tr><td>&quot;ETANOL&quot;</td><td>84528</td></tr></tbody></table></div>"
      ],
      "text/plain": [
       "shape: (6, 2)\n",
       "┌────────────────────┬────────┐\n",
       "│ Produto            ┆ counts │\n",
       "│ ---                ┆ ---    │\n",
       "│ str                ┆ u32    │\n",
       "╞════════════════════╪════════╡\n",
       "│ GNV                ┆ 7735   │\n",
       "│ DIESEL S10         ┆ 74662  │\n",
       "│ GASOLINA ADITIVADA ┆ 73068  │\n",
       "│ GASOLINA           ┆ 96323  │\n",
       "│ DIESEL             ┆ 41762  │\n",
       "│ ETANOL             ┆ 84528  │\n",
       "└────────────────────┴────────┘"
      ]
     },
     "execution_count": 44,
     "metadata": {},
     "output_type": "execute_result"
    }
   ],
   "source": [
    "df['Produto'].value_counts()"
   ]
  },
  {
   "cell_type": "markdown",
   "id": "12508b2a-bc01-4da7-81f6-a13b155de80e",
   "metadata": {
    "tags": []
   },
   "source": [
    "#### Boxplot for \"GNV\" product"
   ]
  },
  {
   "cell_type": "code",
   "execution_count": 34,
   "id": "3453a07d-ed91-4754-a545-9c946f7c5c13",
   "metadata": {
    "tags": []
   },
   "outputs": [
    {
     "data": {
      "text/plain": [
       "<Axes: ylabel='Valor de Venda'>"
      ]
     },
     "execution_count": 34,
     "metadata": {},
     "output_type": "execute_result"
    },
    {
     "data": {
      "image/png": "[encoded data removed]",
      "text/plain": [
       "<Figure size 640x480 with 1 Axes>"
      ]
     },
     "metadata": {},
     "output_type": "display_data"
    }
   ],
   "source": [
    "sns.boxplot(y=df.filter(pl.col('Produto') == 'GNV')['Valor de Venda'])"
   ]
  },
  {
   "cell_type": "markdown",
   "id": "a7ceff6c-4c8a-470c-b89a-381024c19235",
   "metadata": {
    "tags": []
   },
   "source": [
    "#### Boxplot for \"DIESEL S10\" produt"
   ]
  },
  {
   "cell_type": "code",
   "execution_count": 35,
   "id": "24fb90bd-c8f2-4954-8eb0-0f4025601d07",
   "metadata": {
    "tags": []
   },
   "outputs": [
    {
     "data": {
      "text/plain": [
       "<Axes: ylabel='Valor de Venda'>"
      ]
     },
     "execution_count": 35,
     "metadata": {},
     "output_type": "execute_result"
    },
    {
     "data": {
      "image/png": "[encoded data removed]",
      "text/plain": [
       "<Figure size 640x480 with 1 Axes>"
      ]
     },
     "metadata": {},
     "output_type": "display_data"
    }
   ],
   "source": [
    "sns.boxplot(y=df.filter(pl.col('Produto') == 'DIESEL S10')['Valor de Venda'])"
   ]
  },
  {
   "cell_type": "markdown",
   "id": "322823c8-dd52-41fc-8fc5-21aae6b2f396",
   "metadata": {
    "tags": []
   },
   "source": [
    "#### Boxplot for \"GASOLINA\" produt"
   ]
  },
  {
   "cell_type": "code",
   "execution_count": 36,
   "id": "d7ee7e42-564b-4176-926b-7e4fc7796202",
   "metadata": {
    "tags": []
   },
   "outputs": [
    {
     "data": {
      "text/plain": [
       "<Axes: ylabel='Valor de Venda'>"
      ]
     },
     "execution_count": 36,
     "metadata": {},
     "output_type": "execute_result"
    },
    {
     "data": {
      "image/png": "[encoded data removed]",
      "text/plain": [
       "<Figure size 640x480 with 1 Axes>"
      ]
     },
     "metadata": {},
     "output_type": "display_data"
    }
   ],
   "source": [
    "sns.boxplot(y = df.filter(pl.col('Produto') == 'GASOLINA')['Valor de Venda'])"
   ]
  },
  {
   "cell_type": "markdown",
   "id": "c9933ef0-f958-44bc-94b0-240037cf0e6b",
   "metadata": {
    "tags": []
   },
   "source": [
    "#### Boxplot for \"GASOLINA ADITIVADA\" produt"
   ]
  },
  {
   "cell_type": "code",
   "execution_count": 45,
   "id": "aab89ef4-2f64-4d47-a93d-9dc7b1a32021",
   "metadata": {
    "tags": []
   },
   "outputs": [
    {
     "data": {
      "text/plain": [
       "<Axes: ylabel='Valor de Venda'>"
      ]
     },
     "execution_count": 45,
     "metadata": {},
     "output_type": "execute_result"
    },
    {
     "data": {
      "image/png": "[encoded data removed]",
      "text/plain": [
       "<Figure size 640x480 with 1 Axes>"
      ]
     },
     "metadata": {},
     "output_type": "display_data"
    }
   ],
   "source": [
    "sns.boxplot(y = df.filter(pl.col('Produto') == 'GASOLINA ADITIVADA')['Valor de Venda'])"
   ]
  },
  {
   "cell_type": "markdown",
   "id": "612aa7fe-1518-464f-bfcd-0e16150f7f86",
   "metadata": {
    "tags": []
   },
   "source": [
    "#### Boxplot for \"DIESEL\" produt"
   ]
  },
  {
   "cell_type": "code",
   "execution_count": 46,
   "id": "abbc855b-40e0-4c81-8ba6-85c10830f733",
   "metadata": {
    "tags": []
   },
   "outputs": [
    {
     "data": {
      "text/plain": [
       "<Axes: ylabel='Valor de Venda'>"
      ]
     },
     "execution_count": 46,
     "metadata": {},
     "output_type": "execute_result"
    },
    {
     "data": {
      "image/png": "[encoded data removed]",
      "text/plain": [
       "<Figure size 640x480 with 1 Axes>"
      ]
     },
     "metadata": {},
     "output_type": "display_data"
    }
   ],
   "source": [
    "sns.boxplot(y = df.filter(pl.col('Produto') == 'DIESEL')['Valor de Venda'])"
   ]
  },
  {
   "cell_type": "markdown",
   "id": "4c73176b-2f3b-4509-9316-2331efb63c74",
   "metadata": {
    "tags": []
   },
   "source": [
    "#### Boxplot for \"ETANOL\" produt"
   ]
  },
  {
   "cell_type": "code",
   "execution_count": 47,
   "id": "7af23948-554d-4ecf-8a6d-f0686a1652ab",
   "metadata": {
    "tags": []
   },
   "outputs": [
    {
     "data": {
      "text/plain": [
       "<Axes: ylabel='Valor de Venda'>"
      ]
     },
     "execution_count": 47,
     "metadata": {},
     "output_type": "execute_result"
    },
    {
     "data": {
      "image/png": "[encoded data removed]",
      "text/plain": [
       "<Figure size 640x480 with 1 Axes>"
      ]
     },
     "metadata": {},
     "output_type": "display_data"
    }
   ],
   "source": [
    "sns.boxplot(y = df.filter(pl.col('Produto') == 'ETANOL')['Valor de Venda'])"
   ]
  }
 ],
 "metadata": {
  "kernelspec": {
   "display_name": "Python 3 (ipykernel)",
   "language": "python",
   "name": "python3"
  },
  "language_info": {
   "codemirror_mode": {
    "name": "ipython",
    "version": 3
   },
   "file_extension": ".py",
   "mimetype": "text/x-python",
   "name": "python",
   "nbconvert_exporter": "python",
   "pygments_lexer": "ipython3",
   "version": "3.10.11"
  }
 },
 "nbformat": 4,
 "nbformat_minor": 5
}
